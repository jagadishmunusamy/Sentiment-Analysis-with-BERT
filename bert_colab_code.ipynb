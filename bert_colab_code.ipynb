{
  "nbformat": 4,
  "nbformat_minor": 0,
  "metadata": {
    "colab": {
      "provenance": []
    },
    "kernelspec": {
      "name": "python3",
      "display_name": "Python 3"
    },
    "language_info": {
      "name": "python"
    }
  },
  "cells": [
    {
      "cell_type": "code",
      "source": [
        "!pip install streamlit transformers torch pyngrok --quiet\n"
      ],
      "metadata": {
        "id": "_ws-OvCkLNCC"
      },
      "execution_count": 39,
      "outputs": []
    },
    {
      "cell_type": "code",
      "source": [
        "%%writefile app.py\n",
        "import streamlit as st\n",
        "from transformers import AutoTokenizer, AutoModelForSequenceClassification, pipeline\n",
        "\n",
        "model_name = \"cardiffnlp/twitter-roberta-base-sentiment\"\n",
        "tokenizer = AutoTokenizer.from_pretrained(model_name)\n",
        "model = AutoModelForSequenceClassification.from_pretrained(model_name)\n",
        "\n",
        "classifier = pipeline(\"sentiment-analysis\", model=model, tokenizer=tokenizer)\n",
        "\n",
        "label_map = {\n",
        "    \"LABEL_0\": \"Negative\",\n",
        "    \"LABEL_1\": \"Neutral\",\n",
        "    \"LABEL_2\": \"Positive\"\n",
        "}\n",
        "\n",
        "st.set_page_config(page_title=\"Sentiment Analyzer\", layout=\"centered\")\n",
        "st.title(\"🧠 Sentiment Analyzer with BERT\")\n",
        "st.markdown(\"Enter any sentence and find out if it's **Positive**, **Negative**, or **Neutral**!\")\n",
        "\n",
        "text_input = st.text_area(\"Enter text:\", \"\")\n",
        "\n",
        "if st.button(\"Analyze\"):\n",
        "    if text_input.strip() == \"\":\n",
        "        st.warning(\"Please enter some text to analyze.\")\n",
        "    else:\n",
        "        with st.spinner(\"Analyzing...\"):\n",
        "            result = classifier(text_input)[0]\n",
        "            label = label_map[result[\"label\"]]\n",
        "            score = round(result[\"score\"] * 100, 2)\n",
        "\n",
        "        st.success(f\"**Sentiment:** {label}\")\n",
        "        st.info(f\"**Confidence:** {score} %\")\n"
      ],
      "metadata": {
        "id": "s8QxL1MTLORN",
        "outputId": "14d8bea7-37f8-4bd5-d26e-d21c103f2334",
        "colab": {
          "base_uri": "https://localhost:8080/"
        }
      },
      "execution_count": 40,
      "outputs": [
        {
          "output_type": "stream",
          "name": "stdout",
          "text": [
            "Overwriting app.py\n"
          ]
        }
      ]
    },
    {
      "cell_type": "code",
      "source": [
        "from pyngrok import ngrok\n",
        "import time\n",
        "\n",
        "!pkill streamlit\n",
        "\n",
        "# Correct format for ngrok tunnel\n",
        "public_url = ngrok.connect(\"http://localhost:8501\")\n",
        "print(f\"🌐 Streamlit app is live at: {public_url}\")\n",
        "\n",
        "time.sleep(1)\n",
        "!streamlit run app.py &> /dev/null &\n"
      ],
      "metadata": {
        "id": "b5ZnyuunLb0y",
        "outputId": "89ce6c97-9177-40d0-ddbf-28fcee699783",
        "colab": {
          "base_uri": "https://localhost:8080/"
        }
      },
      "execution_count": 44,
      "outputs": [
        {
          "output_type": "stream",
          "name": "stdout",
          "text": [
            "🌐 Streamlit app is live at: NgrokTunnel: \"https://f131-34-106-21-103.ngrok-free.app\" -> \"http://localhost:8501\"\n"
          ]
        }
      ]
    },
    {
      "cell_type": "code",
      "source": [
        "from pyngrok import conf\n",
        "\n",
        "conf.get_default().auth_token = \"2vi7BHeoqIOSSj2aaBBElWLxdYu_7hzH7uaU6QNjUW617jiQm\"\n"
      ],
      "metadata": {
        "id": "06VrWji0MtlJ"
      },
      "execution_count": 42,
      "outputs": []
    },
    {
      "cell_type": "code",
      "source": [],
      "metadata": {
        "id": "m5qzUvrPOGv8"
      },
      "execution_count": null,
      "outputs": []
    }
  ]
}