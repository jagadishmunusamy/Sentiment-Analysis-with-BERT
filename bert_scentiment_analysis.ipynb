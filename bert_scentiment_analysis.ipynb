{
  "nbformat": 4,
  "nbformat_minor": 0,
  "metadata": {
    "colab": {
      "provenance": []
    },
    "kernelspec": {
      "name": "python3",
      "display_name": "Python 3"
    },
    "language_info": {
      "name": "python"
    }
  },
  "cells": [
    {
      "cell_type": "code",
      "source": [
        "from transformers import AutoTokenizer, AutoModelForSequenceClassification\n",
        "from transformers import pipeline\n",
        "\n",
        "# Load the tokenizer and model\n",
        "model_name = \"cardiffnlp/twitter-roberta-base-sentiment\"\n",
        "tokenizer = AutoTokenizer.from_pretrained(model_name)\n",
        "model = AutoModelForSequenceClassification.from_pretrained(model_name)\n",
        "\n",
        "# Load the sentiment analysis pipeline\n",
        "classifier = pipeline(\"sentiment-analysis\", model=model, tokenizer=tokenizer)\n",
        "\n",
        "label_map = {\n",
        "    \"LABEL_0\": \"Negative\",\n",
        "    \"LABEL_1\": \"Neutral\",\n",
        "    \"LABEL_2\": \"Positive\"\n",
        "}\n",
        "\n",
        "result = classifier(\"It's okay, not great.\")[0]\n",
        "readable_result = {\n",
        "    \"label\": label_map[result['label']],\n",
        "    \"score\": result['score']\n",
        "}\n",
        "\n",
        "print(readable_result)\n",
        "\n"
      ],
      "metadata": {
        "colab": {
          "base_uri": "https://localhost:8080/"
        },
        "id": "CfGww5G75cAJ",
        "outputId": "ce34b15d-0536-4777-b866-4c61e518804d"
      },
      "execution_count": 29,
      "outputs": [
        {
          "output_type": "stream",
          "name": "stderr",
          "text": [
            "Device set to use cpu\n"
          ]
        },
        {
          "output_type": "stream",
          "name": "stdout",
          "text": [
            "{'label': 'Neutral', 'score': 0.506914496421814}\n"
          ]
        }
      ]
    },
    {
      "cell_type": "code",
      "source": [],
      "metadata": {
        "id": "QSNZXAOv7Oan"
      },
      "execution_count": null,
      "outputs": []
    }
  ]
}